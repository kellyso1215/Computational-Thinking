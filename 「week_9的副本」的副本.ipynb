{
  "nbformat": 4,
  "nbformat_minor": 0,
  "metadata": {
    "colab": {
      "name": "「week.9的副本」的副本",
      "provenance": [],
      "authorship_tag": "ABX9TyN7BYSJYG5rMZFoIOQLMMJj",
      "include_colab_link": true
    },
    "kernelspec": {
      "name": "python3",
      "display_name": "Python 3"
    }
  },
  "cells": [
    {
      "cell_type": "markdown",
      "metadata": {
        "id": "view-in-github",
        "colab_type": "text"
      },
      "source": [
        "<a href=\"https://colab.research.google.com/github/kellyso1215/Computational-Thinking/blob/main/%E3%80%8Cweek_9%E7%9A%84%E5%89%AF%E6%9C%AC%E3%80%8D%E7%9A%84%E5%89%AF%E6%9C%AC.ipynb\" target=\"_parent\"><img src=\"https://colab.research.google.com/assets/colab-badge.svg\" alt=\"Open In Colab\"/></a>"
      ]
    },
    {
      "cell_type": "code",
      "metadata": {
        "colab": {
          "base_uri": "https://localhost:8080/"
        },
        "id": "AM99UPrTRjy9",
        "outputId": "f19f173b-2518-4594-89e9-119feff9df39"
      },
      "source": [
        "X = int(input(\"請輸入上衣的數量？ \"))\n",
        "Y = int(input(\"請輸入褲子的數量？ \"))\n",
        "Z = int(input(\"請輸入背心的數量？ \"))\n",
        "Total = 300*X + 350*Y + 400*Z\n",
        "print(\"訂購服裝的總金額為 \", Total)"
      ],
      "execution_count": null,
      "outputs": [
        {
          "output_type": "stream",
          "text": [
            "請輸入上衣的數量？ 5\n",
            "請輸入褲子的數量？ 5\n",
            "請輸入背心的數量？ 5\n",
            "訂購服裝的總金額為  5250\n"
          ],
          "name": "stdout"
        }
      ]
    },
    {
      "cell_type": "code",
      "metadata": {
        "id": "iauaH5j6VobH",
        "colab": {
          "base_uri": "https://localhost:8080/"
        },
        "outputId": "37f7e343-a603-4855-9eab-4b4424347183"
      },
      "source": [
        "first = int(input(\"請輸入第一次期中考成績? \"))\n",
        "second = int(input(\"請輸入第二次期中考成績? \"))\n",
        "final = int(input(\"請輸入期末考成績? \"))\n",
        "total = first + second + final\n",
        "average = total / 3\n",
        "print(\"總分為\", total, \"平均為\", average)"
      ],
      "execution_count": null,
      "outputs": [
        {
          "output_type": "stream",
          "text": [
            "請輸入第一次期中考成績? 75\n",
            "請輸入第二次期中考成績? 80\n",
            "請輸入期末考成績? 65\n",
            "總分為 220 平均為 73.33333333333333\n"
          ],
          "name": "stdout"
        }
      ]
    }
  ]
}