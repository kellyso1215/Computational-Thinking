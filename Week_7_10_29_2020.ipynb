{
  "nbformat": 4,
  "nbformat_minor": 0,
  "metadata": {
    "colab": {
      "name": "Week 7 10-29-2020.ipynb",
      "provenance": [],
      "collapsed_sections": []
    },
    "kernelspec": {
      "name": "python3",
      "display_name": "Python 3"
    }
  },
  "cells": [
    {
      "cell_type": "code",
      "metadata": {
        "id": "ff47kJkpQ-1R",
        "outputId": "e80fc10a-f148-4f64-887b-03ff679508bf",
        "colab": {
          "base_uri": "https://localhost:8080/"
        }
      },
      "source": [
        "Sum=0\n",
        "A=1\n",
        "B=2\n",
        "Sum=A+B\n",
        "print(Sum)"
      ],
      "execution_count": 19,
      "outputs": [
        {
          "output_type": "stream",
          "text": [
            "3\n"
          ],
          "name": "stdout"
        }
      ]
    },
    {
      "cell_type": "code",
      "metadata": {
        "id": "qZiBpecuqW0c",
        "outputId": "bacccd3a-0d58-44a1-e4df-6773594443ea",
        "colab": {
          "base_uri": "https://localhost:8080/"
        }
      },
      "source": [
        "print(type(87))\n",
        "print(type(8.7))\n",
        "print(type(\"Hello python\"))\n",
        "print(type(True))\n",
        "print(type(False))\n",
        "print(type(None))"
      ],
      "execution_count": 21,
      "outputs": [
        {
          "output_type": "stream",
          "text": [
            "<class 'int'>\n",
            "<class 'float'>\n",
            "<class 'str'>\n",
            "<class 'bool'>\n",
            "<class 'bool'>\n",
            "<class 'NoneType'>\n"
          ],
          "name": "stdout"
        }
      ]
    },
    {
      "cell_type": "code",
      "metadata": {
        "id": "fv60no_mrdOC"
      },
      "source": [
        "my_int=87\n",
        "my_float=8.7\n",
        "my_str=\"Hello python\"\n",
        "bool_true=True\n",
        "bool_fa1se=False\n",
        "none_type=None"
      ],
      "execution_count": 29,
      "outputs": []
    },
    {
      "cell_type": "code",
      "metadata": {
        "id": "e4HkLf5nvflL",
        "outputId": "41c70a88-ccb8-476f-ece6-fb2c02e0749e",
        "colab": {
          "base_uri": "https://localhost:8080/"
        }
      },
      "source": [
        "A=18**2\n",
        "B=19%10\n",
        "print(A+B)"
      ],
      "execution_count": 36,
      "outputs": [
        {
          "output_type": "stream",
          "text": [
            "333\n"
          ],
          "name": "stdout"
        }
      ]
    }
  ]
}