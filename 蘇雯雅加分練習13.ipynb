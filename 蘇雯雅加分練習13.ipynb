{
  "nbformat": 4,
  "nbformat_minor": 0,
  "metadata": {
    "colab": {
      "name": "蘇雯雅加分練習13.ipynb",
      "provenance": [],
      "authorship_tag": "ABX9TyPPpxtBKTZojRvMf7HTB5rw",
      "include_colab_link": true
    },
    "kernelspec": {
      "name": "python3",
      "display_name": "Python 3"
    }
  },
  "cells": [
    {
      "cell_type": "markdown",
      "metadata": {
        "id": "view-in-github",
        "colab_type": "text"
      },
      "source": [
        "<a href=\"https://colab.research.google.com/github/kellyso1215/Computational-Thinking/blob/main/%E8%98%87%E9%9B%AF%E9%9B%85%E5%8A%A0%E5%88%86%E7%B7%B4%E7%BF%9213.ipynb\" target=\"_parent\"><img src=\"https://colab.research.google.com/assets/colab-badge.svg\" alt=\"Open In Colab\"/></a>"
      ]
    },
    {
      "cell_type": "code",
      "metadata": {
        "id": "kZ3UcnQBe0P7"
      },
      "source": [
        "#list串列\r\n",
        "\r\n",
        "##數字串列\r\n",
        "##文字串列\r\n",
        "##混合串列\r\n",
        "\r\n",
        "list1 = [1,2,3,4,5]\r\n",
        "\r\n",
        "#索引切片\r\n",
        "\r\n",
        "list1[1] # 2\r\n",
        "list[1:4] # 2 3 4\r\n",
        "\r\n",
        "#range()\r\n",
        "\r\n",
        "range(start = 0, stop, step = 1)\r\n",
        "list3 = range(1,6,1)\r\n",
        "\r\n",
        "# for \r\n",
        "\r\n",
        "## for i in range()\r\n",
        "##print(i)"
      ],
      "execution_count": null,
      "outputs": []
    },
    {
      "cell_type": "code",
      "metadata": {
        "colab": {
          "base_uri": "https://localhost:8080/"
        },
        "id": "Z827SF2qja2n",
        "outputId": "b6425b13-b51e-4116-cbb7-abb6e8fb2d56"
      },
      "source": [
        "for i in range(0,5,1):\r\n",
        "  print(\"hello\")"
      ],
      "execution_count": 1,
      "outputs": [
        {
          "output_type": "stream",
          "text": [
            "hello\n",
            "hello\n",
            "hello\n",
            "hello\n",
            "hello\n"
          ],
          "name": "stdout"
        }
      ]
    },
    {
      "cell_type": "code",
      "metadata": {
        "colab": {
          "base_uri": "https://localhost:8080/"
        },
        "id": "pC7mNEC3lHk8",
        "outputId": "ee9c2190-e7f1-43eb-f07b-7b2537dd9611"
      },
      "source": [
        "#[2,3,4,5]\r\n",
        "for i in range(2,6,1):\r\n",
        "  print(i)"
      ],
      "execution_count": 2,
      "outputs": [
        {
          "output_type": "stream",
          "text": [
            "2\n",
            "3\n",
            "4\n",
            "5\n"
          ],
          "name": "stdout"
        }
      ]
    },
    {
      "cell_type": "code",
      "metadata": {
        "colab": {
          "base_uri": "https://localhost:8080/"
        },
        "id": "K8Ft-IWKlaG3",
        "outputId": "06b17309-aa86-45b1-89ad-b5ae89ba77a9"
      },
      "source": [
        "#[2,4,6,8]\r\n",
        "for i in range(2,10,2):\r\n",
        "  print(i)"
      ],
      "execution_count": 3,
      "outputs": [
        {
          "output_type": "stream",
          "text": [
            "2\n",
            "4\n",
            "6\n",
            "8\n"
          ],
          "name": "stdout"
        }
      ]
    },
    {
      "cell_type": "code",
      "metadata": {
        "colab": {
          "base_uri": "https://localhost:8080/"
        },
        "id": "0_NWF9P1linj",
        "outputId": "1fe7b221-13ad-4d3c-915c-149d34106854"
      },
      "source": [
        "#[100,97,94,91]\r\n",
        "for i in range(100,90,-3):\r\n",
        "  print(i)"
      ],
      "execution_count": 4,
      "outputs": [
        {
          "output_type": "stream",
          "text": [
            "100\n",
            "97\n",
            "94\n",
            "91\n"
          ],
          "name": "stdout"
        }
      ]
    },
    {
      "cell_type": "code",
      "metadata": {
        "colab": {
          "base_uri": "https://localhost:8080/"
        },
        "id": "7CfLm7B1l64F",
        "outputId": "cf2137c3-9bb1-4659-a194-211dbfa4b5a7"
      },
      "source": [
        "#2+4+6+8+10=?\r\n",
        "sum = 0\r\n",
        "for i in range(2,11,2):\r\n",
        "  sum = sum + i\r\n",
        "print(\"total is\",sum)\r\n"
      ],
      "execution_count": 5,
      "outputs": [
        {
          "output_type": "stream",
          "text": [
            "total is 30\n"
          ],
          "name": "stdout"
        }
      ]
    },
    {
      "cell_type": "code",
      "metadata": {
        "colab": {
          "base_uri": "https://localhost:8080/"
        },
        "id": "cfa4tS_jrsHr",
        "outputId": "a65c1da4-debe-4d71-ee41-64a39da82c9a"
      },
      "source": [
        "#數字3到13之間，每隔3個數字之和\r\n",
        "#6+9+12=?\r\n",
        "sum = 0\r\n",
        "for i in range(6,15,3):\r\n",
        "  sum = sum + i\r\n",
        "print(\"total is\",sum)"
      ],
      "execution_count": 13,
      "outputs": [
        {
          "output_type": "stream",
          "text": [
            "total is 27\n"
          ],
          "name": "stdout"
        }
      ]
    },
    {
      "cell_type": "code",
      "metadata": {
        "colab": {
          "base_uri": "https://localhost:8080/"
        },
        "id": "CkofJWgSvV9B",
        "outputId": "16342851-ee2b-439c-b412-54d3f750f809"
      },
      "source": [
        "#1+2+3+4+5+6+7+8+9+10=?\r\n",
        "sum = 0\r\n",
        "for i in range(1,11,1):\r\n",
        "  sum = sum + 1\r\n",
        "  print(\"i為\",i,\"時，累加結果為\",sum)\r\n",
        "\r\n"
      ],
      "execution_count": 18,
      "outputs": [
        {
          "output_type": "stream",
          "text": [
            "i為 1 時，累加結果為 1\n",
            "i為 2 時，累加結果為 2\n",
            "i為 3 時，累加結果為 3\n",
            "i為 4 時，累加結果為 4\n",
            "i為 5 時，累加結果為 5\n",
            "i為 6 時，累加結果為 6\n",
            "i為 7 時，累加結果為 7\n",
            "i為 8 時，累加結果為 8\n",
            "i為 9 時，累加結果為 9\n",
            "i為 10 時，累加結果為 10\n"
          ],
          "name": "stdout"
        }
      ]
    }
  ]
}