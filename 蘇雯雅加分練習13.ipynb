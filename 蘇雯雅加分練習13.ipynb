{
  "nbformat": 4,
  "nbformat_minor": 0,
  "metadata": {
    "colab": {
      "name": "蘇雯雅加分練習13.ipynb",
      "provenance": [],
      "authorship_tag": "ABX9TyPpj9W3XwvnYU76cdnE6c0D",
      "include_colab_link": true
    },
    "kernelspec": {
      "name": "python3",
      "display_name": "Python 3"
    }
  },
  "cells": [
    {
      "cell_type": "markdown",
      "metadata": {
        "id": "view-in-github",
        "colab_type": "text"
      },
      "source": [
        "<a href=\"https://colab.research.google.com/github/kellyso1215/Computational-Thinking/blob/main/%E8%98%87%E9%9B%AF%E9%9B%85%E5%8A%A0%E5%88%86%E7%B7%B4%E7%BF%9213.ipynb\" target=\"_parent\"><img src=\"https://colab.research.google.com/assets/colab-badge.svg\" alt=\"Open In Colab\"/></a>"
      ]
    },
    {
      "cell_type": "code",
      "metadata": {
        "colab": {
          "base_uri": "https://localhost:8080/"
        },
        "id": "CkofJWgSvV9B",
        "outputId": "16342851-ee2b-439c-b412-54d3f750f809"
      },
      "source": [
        "#1+2+3+4+5+6+7+8+9+10=?\r\n",
        "sum = 0\r\n",
        "for i in range(1,11,1):\r\n",
        "  sum = sum + 1\r\n",
        "  print(\"i為\",i,\"時，累加結果為\",sum)\r\n",
        "\r\n"
      ],
      "execution_count": null,
      "outputs": [
        {
          "output_type": "stream",
          "text": [
            "i為 1 時，累加結果為 1\n",
            "i為 2 時，累加結果為 2\n",
            "i為 3 時，累加結果為 3\n",
            "i為 4 時，累加結果為 4\n",
            "i為 5 時，累加結果為 5\n",
            "i為 6 時，累加結果為 6\n",
            "i為 7 時，累加結果為 7\n",
            "i為 8 時，累加結果為 8\n",
            "i為 9 時，累加結果為 9\n",
            "i為 10 時，累加結果為 10\n"
          ],
          "name": "stdout"
        }
      ]
    }
  ]
}