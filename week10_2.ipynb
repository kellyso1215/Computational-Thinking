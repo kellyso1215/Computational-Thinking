{
  "nbformat": 4,
  "nbformat_minor": 0,
  "metadata": {
    "colab": {
      "name": "week10.2.ipynb",
      "provenance": [],
      "authorship_tag": "ABX9TyMWlvfBnkNTQUrq0YB/q3Qm",
      "include_colab_link": true
    },
    "kernelspec": {
      "name": "python3",
      "display_name": "Python 3"
    }
  },
  "cells": [
    {
      "cell_type": "markdown",
      "metadata": {
        "id": "view-in-github",
        "colab_type": "text"
      },
      "source": [
        "<a href=\"https://colab.research.google.com/github/kellyso1215/Computational-Thinking/blob/main/week10_2.ipynb\" target=\"_parent\"><img src=\"https://colab.research.google.com/assets/colab-badge.svg\" alt=\"Open In Colab\"/></a>"
      ]
    },
    {
      "cell_type": "code",
      "metadata": {
        "colab": {
          "base_uri": "https://localhost:8080/"
        },
        "id": "mRkDJOzzgmYN",
        "outputId": "654e0b06-fc70-4bb0-a79c-61db45454905"
      },
      "source": [
        "#inout_data\n",
        "time = 123\n",
        "\n",
        "#process\n",
        "hour = time//60# 商數\n",
        "minute = time%60# 餘數\n",
        "\n",
        "#output\n",
        "\n",
        "print(time, \"是\",hour, \"小時\",minute,\"分鐘\")\n"
      ],
      "execution_count": 1,
      "outputs": [
        {
          "output_type": "stream",
          "text": [
            "123 是 2 小時 3 分鐘\n"
          ],
          "name": "stdout"
        }
      ]
    }
  ]
}