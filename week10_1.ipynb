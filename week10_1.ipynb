{
  "nbformat": 4,
  "nbformat_minor": 0,
  "metadata": {
    "colab": {
      "name": "week10.1.ipynb",
      "provenance": [],
      "authorship_tag": "ABX9TyOHz1cLTVJWjes+wLeG6It5",
      "include_colab_link": true
    },
    "kernelspec": {
      "name": "python3",
      "display_name": "Python 3"
    }
  },
  "cells": [
    {
      "cell_type": "markdown",
      "metadata": {
        "id": "view-in-github",
        "colab_type": "text"
      },
      "source": [
        "<a href=\"https://colab.research.google.com/github/kellyso1215/Computational-Thinking/blob/main/week10_1.ipynb\" target=\"_parent\"><img src=\"https://colab.research.google.com/assets/colab-badge.svg\" alt=\"Open In Colab\"/></a>"
      ]
    },
    {
      "cell_type": "code",
      "metadata": {
        "colab": {
          "base_uri": "https://localhost:8080/"
        },
        "id": "b8WHzxYsZPJw",
        "outputId": "bd9c4af2-65bf-4adf-9d1e-73c281e95114"
      },
      "source": [
        "movie_title = \"Moneyball\"\n",
        "release_year = 2011\n",
        "score = 7.6\n",
        "director = \"Bennett_Miller\"\n",
        "original = \"The_Art_of_Winning_an_Unfair_Gme\"\n",
        "print(\"電腦英文名稱 \", movie_title)\n",
        "print(\"上映時間 \", release_year)\n",
        "print(\"評分 \", score)\n",
        "print(\"導演 \", director)\n",
        "print(\"原著 \", original)"
      ],
      "execution_count": 17,
      "outputs": [
        {
          "output_type": "stream",
          "text": [
            "電腦英文名稱  Moneyball\n",
            "上映時間  2011\n",
            "評分  7.6\n",
            "導演  Bennett_Miller\n",
            "原著  The_Art_of_Winning_an_Unfair_Gme\n"
          ],
          "name": "stdout"
        }
      ]
    }
  ]
}