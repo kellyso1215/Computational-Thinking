{
  "nbformat": 4,
  "nbformat_minor": 0,
  "metadata": {
    "colab": {
      "name": "機器人對話.ipynb",
      "provenance": [],
      "authorship_tag": "ABX9TyOk4OSqmULIsxil/B/qQKsa",
      "include_colab_link": true
    },
    "kernelspec": {
      "name": "python3",
      "display_name": "Python 3"
    }
  },
  "cells": [
    {
      "cell_type": "markdown",
      "metadata": {
        "id": "view-in-github",
        "colab_type": "text"
      },
      "source": [
        "<a href=\"https://colab.research.google.com/github/kellyso1215/Computational-Thinking/blob/main/%E6%A9%9F%E5%99%A8%E4%BA%BA%E5%B0%8D%E8%A9%B1.ipynb\" target=\"_parent\"><img src=\"https://colab.research.google.com/assets/colab-badge.svg\" alt=\"Open In Colab\"/></a>"
      ]
    },
    {
      "cell_type": "code",
      "metadata": {
        "colab": {
          "base_uri": "https://localhost:8080/"
        },
        "id": "QyzC0KGjYzp0",
        "outputId": "947dee85-65b5-4d9e-dbe8-4b463e1afac5"
      },
      "source": [
        "print(\"哈嘍，大家好。我叫smn1215，是一個聊天機器人。\") \n",
        "hobby = \"我喜歡吃美食，也喜歡養動物。今天很高興有機會來的世新大學。\"\n",
        "print(hobby)\n",
        "\n",
        "# 打招呼，取得對方名字\n",
        "name = input(\"嗨！你好，請問大名？\")\n",
        "print(\"我叫\",name)\n",
        "print(\"你好\",name,\"很高興認識你\")"
      ],
      "execution_count": 10,
      "outputs": [
        {
          "output_type": "stream",
          "text": [
            "哈嘍，大家好。我叫smn1215，是一個聊天機器人。\n",
            "我喜歡吃美食，也喜歡養動物。今天很高興有機會來的世新大學。\n",
            "嗨！你好，請問大名？蘇雯雅\n",
            "我叫 蘇雯雅\n",
            "你好 蘇雯雅 很高興認識你\n"
          ],
          "name": "stdout"
        }
      ]
    },
    {
      "cell_type": "code",
      "metadata": {
        "colab": {
          "base_uri": "https://localhost:8080/"
        },
        "id": "A7aKB1vDbnIf",
        "outputId": "73bc0a51-0e49-4188-b57a-ee1d65b44ff9"
      },
      "source": [
        "# 從使用者取得今年年份\n",
        "year = input(\"請問一下今年是西元2020年,那是民國幾年呢？\")\n",
        "print(\"對！應該沒錯,謝謝你！\")\n",
        "# 請使用者猜年齡\n",
        "myage = int(input(\"再猜猜看我今年幾歲？\"))\n",
        "print(\"哇！你好聰明,我今年的確\",myage)\n",
        "# 計算聊天機器人滿100嵗的年份\n",
        "nyears = 100 - myage\n",
        "print(\"我再\",nyears,\"年就滿100嵗了。\")\n",
        "print(\"到時候是西元\",int(year) + nyears +1911, \"年\")"
      ],
      "execution_count": 17,
      "outputs": [
        {
          "output_type": "stream",
          "text": [
            "請問一下今年是西元2020年,那是民國幾年呢？109\n",
            "對！應該沒錯,謝謝你！\n",
            "再猜猜看我今年幾歲？25\n",
            "哇！你好聰明,我今年的確 25\n",
            "我再 75 年就滿100嵗了。\n",
            "到時候是西元 2095 年\n"
          ],
          "name": "stdout"
        }
      ]
    },
    {
      "cell_type": "code",
      "metadata": {
        "colab": {
          "base_uri": "https://localhost:8080/"
        },
        "id": "V8W110MvsfC-",
        "outputId": "34a1bff3-4f8f-4b55-a713-1cf5e340a44b"
      },
      "source": [
        "# 食物話題\n",
        "print(\"我喜歡巧克力,也喜歡嘗試各種新食物。\")\n",
        "food = input(\"你呢。你最喜歡的食物是什麽？：\")\n",
        "print(\"我也喜歡\",food)\n",
        "question = \"你多久吃一次\" + food + \"?:\"\n",
        "howoften = input(question)\n",
        "print(\"真有趣。不知道這樣對健康好不好！\")"
      ],
      "execution_count": 18,
      "outputs": [
        {
          "output_type": "stream",
          "text": [
            "我喜歡巧克力,也喜歡嘗試各種新食物。\n",
            "你呢。你最喜歡的食物是什麽？：草莓\n",
            "我也喜歡 草莓\n",
            "你多久吃一次草莓?:一個月\n",
            "真有趣。不知道這樣對健康好不好！\n"
          ],
          "name": "stdout"
        }
      ]
    }
  ]
}