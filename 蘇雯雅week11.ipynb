{
  "nbformat": 4,
  "nbformat_minor": 0,
  "metadata": {
    "colab": {
      "name": "蘇雯雅week11.ipynb",
      "provenance": [],
      "authorship_tag": "ABX9TyPYxq8GgCW1eZQjKwrlNoki",
      "include_colab_link": true
    },
    "kernelspec": {
      "name": "python3",
      "display_name": "Python 3"
    }
  },
  "cells": [
    {
      "cell_type": "markdown",
      "metadata": {
        "id": "view-in-github",
        "colab_type": "text"
      },
      "source": [
        "<a href=\"https://colab.research.google.com/github/kellyso1215/Computational-Thinking/blob/main/%E8%98%87%E9%9B%AF%E9%9B%85week11.ipynb\" target=\"_parent\"><img src=\"https://colab.research.google.com/assets/colab-badge.svg\" alt=\"Open In Colab\"/></a>"
      ]
    },
    {
      "cell_type": "code",
      "metadata": {
        "colab": {
          "base_uri": "https://localhost:8080/"
        },
        "id": "Qn7KhqCPZ0uE",
        "outputId": "9fb9e4e0-01b0-432e-8d66-6caf7fb5bb77"
      },
      "source": [
        "# 商數餘數\n",
        "## Input\n",
        "seat = int(input(\"Enter a seat number?\"))\n",
        "## Process\n",
        "group = (seat - 1) // 5 + 1\n",
        "## Output\n",
        "print(\"Group is\", group)"
      ],
      "execution_count": null,
      "outputs": [
        {
          "output_type": "stream",
          "text": [
            "Enter a seat number?19\n",
            "Group is 4\n"
          ],
          "name": "stdout"
        }
      ]
    },
    {
      "cell_type": "code",
      "metadata": {
        "colab": {
          "base_uri": "https://localhost:8080/"
        },
        "id": "1qcZv8kzdWDM",
        "outputId": "322e0f8d-fa28-42ae-d03e-801964540b73"
      },
      "source": [
        "# 四捨五入 無條件進位\n",
        "import math\n",
        "\n",
        "## Input\n",
        "seat = int(input(\"Enter a seat number?\"))\n",
        "\n",
        "## Process\n",
        "group = math.ceil(seat/5)\n",
        "\n",
        "## Output\n",
        "print(\"Group is\", group)"
      ],
      "execution_count": null,
      "outputs": [
        {
          "output_type": "stream",
          "text": [
            "Enter a seat number?19\n",
            "Group is 4\n"
          ],
          "name": "stdout"
        }
      ]
    },
    {
      "cell_type": "code",
      "metadata": {
        "colab": {
          "base_uri": "https://localhost:8080/"
        },
        "id": "BIHGiNm6ekH2",
        "outputId": "54609074-8141-4471-fbfa-d4d5865f2b8a"
      },
      "source": [
        "# 看餘數，用條件句\n",
        "number = int(input(\"Enter a number? \"))\n",
        "if number%5 == 0:\n",
        "   print(\"Group is \", number//5)\n",
        "else:\n",
        "   print(\"Group is \", number//5 + 1)"
      ],
      "execution_count": null,
      "outputs": [
        {
          "output_type": "stream",
          "text": [
            "Enter a number? 19\n",
            "Group is  4\n"
          ],
          "name": "stdout"
        }
      ]
    }
  ]
}