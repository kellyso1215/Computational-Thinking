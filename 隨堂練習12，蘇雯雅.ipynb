{
  "nbformat": 4,
  "nbformat_minor": 0,
  "metadata": {
    "colab": {
      "name": "隨堂練習12，蘇雯雅.ipynb",
      "provenance": [],
      "authorship_tag": "ABX9TyMdcKGLsZ7t7uXCeiOneqxh",
      "include_colab_link": true
    },
    "kernelspec": {
      "name": "python3",
      "display_name": "Python 3"
    }
  },
  "cells": [
    {
      "cell_type": "markdown",
      "metadata": {
        "id": "view-in-github",
        "colab_type": "text"
      },
      "source": [
        "<a href=\"https://colab.research.google.com/github/kellyso1215/Computational-Thinking/blob/main/%E9%9A%A8%E5%A0%82%E7%B7%B4%E7%BF%9212%EF%BC%8C%E8%98%87%E9%9B%AF%E9%9B%85.ipynb\" target=\"_parent\"><img src=\"https://colab.research.google.com/assets/colab-badge.svg\" alt=\"Open In Colab\"/></a>"
      ]
    },
    {
      "cell_type": "code",
      "metadata": {
        "colab": {
          "base_uri": "https://localhost:8080/"
        },
        "id": "q6Sw9OUnc6WP",
        "outputId": "a098d4a7-3aa4-46a7-c07b-10d1ad1dbfec"
      },
      "source": [
        "#串列項目\n",
        "購物清單=(\"零食\",\"水果\",\"牛奶\",\"生活用品\",\"鷄蛋\")\n",
        "print(購物清單)"
      ],
      "execution_count": null,
      "outputs": [
        {
          "output_type": "stream",
          "text": [
            "('零食', '水果', '牛奶', '生活用品', '鷄蛋')\n"
          ],
          "name": "stdout"
        }
      ]
    },
    {
      "cell_type": "code",
      "metadata": {
        "colab": {
          "base_uri": "https://localhost:8080/"
        },
        "id": "I3rpnjMhfw-_",
        "outputId": "71d0683a-d050-4866-b288-e46a6f49a38d"
      },
      "source": [
        "##索引\n",
        "print(購物清單[0]) # 取第0個項目"
      ],
      "execution_count": null,
      "outputs": [
        {
          "output_type": "stream",
          "text": [
            "零食\n"
          ],
          "name": "stdout"
        }
      ]
    },
    {
      "cell_type": "code",
      "metadata": {
        "colab": {
          "base_uri": "https://localhost:8080/",
          "height": 201
        },
        "id": "TaBeRm_NjC2y",
        "outputId": "d00c7a26-b2d2-4a34-ae84-1cd2f1b2afe6"
      },
      "source": [
        "## 變更\n",
        "購物清單[1] = \"水果\" # 變更第1個項目\n",
        "print(購物清單)\n"
      ],
      "execution_count": null,
      "outputs": [
        {
          "output_type": "error",
          "ename": "TypeError",
          "evalue": "ignored",
          "traceback": [
            "\u001b[0;31m---------------------------------------------------------------------------\u001b[0m",
            "\u001b[0;31mTypeError\u001b[0m                                 Traceback (most recent call last)",
            "\u001b[0;32m<ipython-input-49-efc40681ebe8>\u001b[0m in \u001b[0;36m<module>\u001b[0;34m()\u001b[0m\n\u001b[1;32m      1\u001b[0m \u001b[0;31m## 變更\u001b[0m\u001b[0;34m\u001b[0m\u001b[0;34m\u001b[0m\u001b[0;34m\u001b[0m\u001b[0m\n\u001b[0;32m----> 2\u001b[0;31m \u001b[0m購物清單\u001b[0m\u001b[0;34m[\u001b[0m\u001b[0;36m1\u001b[0m\u001b[0;34m]\u001b[0m \u001b[0;34m=\u001b[0m \u001b[0;34m\"水果\"\u001b[0m \u001b[0;31m# 變更第1個項目\u001b[0m\u001b[0;34m\u001b[0m\u001b[0;34m\u001b[0m\u001b[0m\n\u001b[0m\u001b[1;32m      3\u001b[0m \u001b[0mprint\u001b[0m\u001b[0;34m(\u001b[0m\u001b[0m購物清單\u001b[0m\u001b[0;34m)\u001b[0m\u001b[0;34m\u001b[0m\u001b[0;34m\u001b[0m\u001b[0m\n",
            "\u001b[0;31mTypeError\u001b[0m: 'tuple' object does not support item assignment"
          ]
        }
      ]
    },
    {
      "cell_type": "code",
      "metadata": {
        "colab": {
          "base_uri": "https://localhost:8080/"
        },
        "id": "RetTgPVGjurE",
        "outputId": "ff07adab-558c-4242-d55e-4178f8f6279e"
      },
      "source": [
        "## 切片\n",
        "print(購物清單[1:3]) #取1,2兩個項目"
      ],
      "execution_count": null,
      "outputs": [
        {
          "output_type": "stream",
          "text": [
            "('水果', '牛奶')\n"
          ],
          "name": "stdout"
        }
      ]
    },
    {
      "cell_type": "code",
      "metadata": {
        "id": "0lUAmvvvlGGI"
      },
      "source": [
        "# NBA冠軍球隊的六筆資訊\n",
        "season =\"1995-1996\" \n",
        "team = \"chicago bulls\"\n",
        "coach = \"phil jackson\"\n",
        "records = [72,10]\n",
        "starting = [\"ron harper\",\"michael jordan\",\"scottie pippen\",\"dennis rodman\",\"luc longley\"]\n",
        "champion = True"
      ],
      "execution_count": null,
      "outputs": []
    },
    {
      "cell_type": "code",
      "metadata": {
        "colab": {
          "base_uri": "https://localhost:8080/"
        },
        "id": "5hXCnCVImyUt",
        "outputId": "824e2324-bf37-49e4-e719-34fbd006a04b"
      },
      "source": [
        "# 變數best_NBA 賦值串列\n",
        "best_NBA = list((season,team,coach,records,starting,champion))\n",
        "print(best_NBA)\n",
        "print(type(best_NBA))"
      ],
      "execution_count": null,
      "outputs": [
        {
          "output_type": "stream",
          "text": [
            "['1995-1996', 'chicago bulls', 'phil jackson', [72, 10], ['ron harper', 'michael jordan', 'scottie pippen', 'dennis rodman', 'luc longley'], True]\n",
            "<class 'list'>\n"
          ],
          "name": "stdout"
        }
      ]
    },
    {
      "cell_type": "code",
      "metadata": {
        "colab": {
          "base_uri": "https://localhost:8080/"
        },
        "id": "VOLWWV6ewxYs",
        "outputId": "62631d0a-6809-4f98-9966-ba5ec66c927b"
      },
      "source": [
        "#indexing 索引\n",
        "print(best_NBA[-2])"
      ],
      "execution_count": null,
      "outputs": [
        {
          "output_type": "stream",
          "text": [
            "['ron harper', 'michael jordan', 'scottie pippen', 'dennis rodman', 'luc longley']\n"
          ],
          "name": "stdout"
        }
      ]
    },
    {
      "cell_type": "code",
      "metadata": {
        "colab": {
          "base_uri": "https://localhost:8080/"
        },
        "id": "jW3R0AuYxEdQ",
        "outputId": "76e80df6-078d-4fd6-ff0c-33afcd323486"
      },
      "source": [
        "#slicing 切片\n",
        "print(best_NBA[1:4])"
      ],
      "execution_count": null,
      "outputs": [
        {
          "output_type": "stream",
          "text": [
            "['chicago bulls', 'phil jackson', [72, 10]]\n"
          ],
          "name": "stdout"
        }
      ]
    },
    {
      "cell_type": "code",
      "metadata": {
        "colab": {
          "base_uri": "https://localhost:8080/"
        },
        "id": "EOUHtVK7xWVe",
        "outputId": "c367be56-d81e-4727-8dc2-c5203de53a9f"
      },
      "source": [
        "#[0,1,2,3,4,5,6,7,8,9]\n",
        "a = range(10)\n",
        "print(a)\n",
        "print(a[0],a[1],a[2],a[3],a[4],a[5],a[6],a[7],a[8],a[9])"
      ],
      "execution_count": null,
      "outputs": [
        {
          "output_type": "stream",
          "text": [
            "range(0, 10)\n",
            "0 1 2 3 4 5 6 7 8 9\n"
          ],
          "name": "stdout"
        }
      ]
    }
  ]
}